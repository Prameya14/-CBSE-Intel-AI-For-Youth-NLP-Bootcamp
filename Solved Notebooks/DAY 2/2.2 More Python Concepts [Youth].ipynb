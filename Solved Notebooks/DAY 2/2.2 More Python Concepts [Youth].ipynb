{
 "cells": [
  {
   "cell_type": "markdown",
   "metadata": {
    "id": "gTCgGAHLsWPG"
   },
   "source": [
    "# More Python Concepts\n",
    "## Python Lists\n",
    "\n",
    "Let us understand the following things regarding Python lists:\n",
    "\n",
    "The first half provides an insight on these topics:\n",
    "\n",
    "**1.   What is a list?**\n",
    "\n",
    "**2.   How to create a list?**\n",
    "\n",
    "\n",
    "Now that you have a good understanding of lists and the crucial role they play in a program,  we will understand indexing of lists, this section includes:\n",
    "\n",
    "**3.   Accessing an element in a list**\n",
    "\n",
    "**4.   Updating element using list**\n",
    "\n",
    "**5.   Using lists in programs**\n"
   ]
  },
  {
   "cell_type": "markdown",
   "metadata": {
    "id": "n_EoKNbnvQrC"
   },
   "source": [
    "## What is a list?\n",
    "\n",
    "A traditional definition of list could be, a collection of elements(possibly anything) which are ordered and changeable and duplication of them is allowed. This is how a list would look: \n",
    "```\n",
    "python_list = [e1,e2,e3,...,en]\n",
    "```\n",
    "\n",
    "Sounds complex? No problem! In coming sections we will be going through each of the concept deeply. \n",
    "\n"
   ]
  },
  {
   "cell_type": "markdown",
   "metadata": {
    "id": "w2_xNL1F8HwE"
   },
   "source": [
    "## How to create a list?\n",
    "\n",
    "Unlike it's confusing definition, let's look how easy it is to initialize a list:\n",
    "\n",
    "```\n",
    "number_list = [1,2,3,4,5]\n",
    "```\n",
    "Make sure that while defining name of the list(**number_list** in above example), you don't name it somthing like:\n",
    "```\n",
    "list = []\n",
    "```\n",
    "This would give an error because **list** is inbuilt keyword in Python. Anything except this would work perfectly well!\n",
    "\n",
    "\n",
    "Now, let's say you want to create a list which has names of all your favorite food items:\n",
    "```\n",
    "food_name_list = ['Burger', 'Fries', 'Pizza', 'Coke']\n",
    "```\n",
    "You can add as many names as you want, just make sure that if the elements you add are string datatype they must be written between these: **' '**\n",
    "\n",
    "Execute the below cell to create your own list:"
   ]
  },
  {
   "cell_type": "code",
   "execution_count": 1,
   "metadata": {
    "id": "n3jWueIW91Bq"
   },
   "outputs": [],
   "source": [
    "number_list = [1,2,3,4,5]"
   ]
  },
  {
   "cell_type": "markdown",
   "metadata": {
    "id": "VoWvLTlZiGnW"
   },
   "source": [
    "Let's print the above list to see how the output would look like:"
   ]
  },
  {
   "cell_type": "code",
   "execution_count": 2,
   "metadata": {
    "id": "pmcsI_QKiOAK"
   },
   "outputs": [
    {
     "name": "stdout",
     "output_type": "stream",
     "text": [
      "[1, 2, 3, 4, 5]\n"
     ]
    }
   ],
   "source": [
    "number_list = [1,2,3,4,5]\n",
    "print(number_list)"
   ]
  },
  {
   "cell_type": "markdown",
   "metadata": {
    "id": "T3SFUi_niYJr"
   },
   "source": [
    "Until now, what we have seen is lists with single datatype, that is, it either had all integers or float or string.\n",
    "Now let us have mixed datatype list:"
   ]
  },
  {
   "cell_type": "code",
   "execution_count": 3,
   "metadata": {
    "id": "OCS6Mc1YisMq"
   },
   "outputs": [
    {
     "name": "stdout",
     "output_type": "stream",
     "text": [
      "['one', 1, 'two', 2, 'three', 3]\n"
     ]
    }
   ],
   "source": [
    "mixed_list = ['one',1,'two',2,'three',3]\n",
    "\n",
    "# printing the list\n",
    "print(mixed_list)"
   ]
  },
  {
   "cell_type": "markdown",
   "metadata": {
    "id": "davG0i8mjALC"
   },
   "source": [
    "A list is initiated even if we don't have any elements in it. Sometimes, program need using of the list in further part, at times like this, empty list comes into existence. Execute the code given below to gain an insight about empty lists."
   ]
  },
  {
   "cell_type": "code",
   "execution_count": 4,
   "metadata": {
    "id": "sUAUSh-vjadz"
   },
   "outputs": [
    {
     "name": "stdout",
     "output_type": "stream",
     "text": [
      "[]\n"
     ]
    }
   ],
   "source": [
    "empty_list = []\n",
    "\n",
    "# print the empty list\n",
    "print(empty_list)"
   ]
  },
  {
   "cell_type": "markdown",
   "metadata": {
    "id": "a_VhMywvk1Tt"
   },
   "source": [
    "## Operations on lists: \n",
    "\n",
    "Let us look into some operations that can be performed on lists. These operations become very handy, when we use them in programs. Since they're inbuilt operations provided natively by Python language, using them is more memory efficient as compared to writing our own functions.\n",
    "\n",
    "We will first look into syntax of a particular operation and then execute the code.\n",
    "\n",
    "\n"
   ]
  },
  {
   "cell_type": "markdown",
   "metadata": {
    "id": "SZaUIpkaMrIc"
   },
   "source": [
    "### List Length\n",
    "use: find length of a list\n",
    "```\n",
    "syntax: len(list_name)\n",
    "```\n"
   ]
  },
  {
   "cell_type": "markdown",
   "metadata": {
    "id": "TZJYzy6o_FTf"
   },
   "source": [
    "#### Example"
   ]
  },
  {
   "cell_type": "code",
   "execution_count": 5,
   "metadata": {
    "cellView": "both",
    "id": "7POcA0DEl-AE"
   },
   "outputs": [
    {
     "name": "stdout",
     "output_type": "stream",
     "text": [
      "4\n"
     ]
    }
   ],
   "source": [
    "lst = ['one', 'two', 'three', 'four']\n",
    "\n",
    "#find length of a list\n",
    "print(len(lst))"
   ]
  },
  {
   "cell_type": "markdown",
   "metadata": {
    "id": "YL276EQS2YHI"
   },
   "source": [
    "#### Let's practice!"
   ]
  },
  {
   "cell_type": "markdown",
   "metadata": {
    "id": "AQqVSqFV3sQx"
   },
   "source": [
    "1) Find the length of list"
   ]
  },
  {
   "cell_type": "code",
   "execution_count": 6,
   "metadata": {
    "id": "hXYiJzWe3xzO"
   },
   "outputs": [
    {
     "name": "stdout",
     "output_type": "stream",
     "text": [
      "4\n"
     ]
    }
   ],
   "source": [
    "lst = ['car','bike','cycle','truck']\n",
    "print(len(lst))"
   ]
  },
  {
   "cell_type": "markdown",
   "metadata": {
    "id": "V5WEEaz49QSP"
   },
   "source": [
    "2) Find the length of list"
   ]
  },
  {
   "cell_type": "code",
   "execution_count": 7,
   "metadata": {
    "id": "1cvhL8ef9Uu_"
   },
   "outputs": [
    {
     "name": "stdout",
     "output_type": "stream",
     "text": [
      "0\n"
     ]
    }
   ],
   "source": [
    "lst = []\n",
    "print(len(lst))"
   ]
  },
  {
   "cell_type": "markdown",
   "metadata": {
    "id": "ywfNsIjJmeoK"
   },
   "source": [
    "### List Append\n",
    "use: add the item at the end\n",
    "```\n",
    "syntax: list_name.append('element to append')\n",
    "```"
   ]
  },
  {
   "cell_type": "markdown",
   "metadata": {
    "id": "B6-mNGansGEO"
   },
   "source": [
    "#### Example"
   ]
  },
  {
   "cell_type": "code",
   "execution_count": 8,
   "metadata": {
    "id": "XVnHpWHLm_ei"
   },
   "outputs": [
    {
     "name": "stdout",
     "output_type": "stream",
     "text": [
      "['one', 'two', 'three', 'four', 'five']\n"
     ]
    }
   ],
   "source": [
    "lst = ['one', 'two', 'three', 'four']\n",
    "\n",
    "lst.append('five') # append will add the item at the end\n",
    "\n",
    "print(lst)"
   ]
  },
  {
   "cell_type": "markdown",
   "metadata": {
    "id": "mTVoL5GH-GV5"
   },
   "source": [
    "#### Let's practice!"
   ]
  },
  {
   "cell_type": "markdown",
   "metadata": {
    "id": "ePRfJYwo-LR-"
   },
   "source": [
    "1) Append 'BMW' in the given list and print it"
   ]
  },
  {
   "cell_type": "code",
   "execution_count": 9,
   "metadata": {
    "id": "cAj0dCkX-Shu"
   },
   "outputs": [
    {
     "name": "stdout",
     "output_type": "stream",
     "text": [
      "['Audi', 'Toyota', 'Ferrari', 'bmw']\n"
     ]
    }
   ],
   "source": [
    "car_list = ['Audi','Toyota','Ferrari']\n",
    "car_list.append(\"bmw\")\n",
    "print(car_list)\n"
   ]
  },
  {
   "cell_type": "markdown",
   "metadata": {
    "id": "KRsZUd6T_OFr"
   },
   "source": [
    "2) Append 'Batman' in the given list and print it's length"
   ]
  },
  {
   "cell_type": "code",
   "execution_count": 10,
   "metadata": {
    "id": "O8BGzFfd_VCs"
   },
   "outputs": [
    {
     "name": "stdout",
     "output_type": "stream",
     "text": [
      "['superman', 'flash', 'aquaman', 'batman']\n"
     ]
    }
   ],
   "source": [
    "superhero = ['superman','flash','aquaman']\n",
    "superhero.append('batman')\n",
    "print(superhero)"
   ]
  },
  {
   "cell_type": "markdown",
   "metadata": {
    "id": "7Za-feqBnFEj"
   },
   "source": [
    "### List Remove\n",
    "use: remove a specific element from list \n",
    "```\n",
    "syntax: list_name.remove(x) \n",
    "```"
   ]
  },
  {
   "cell_type": "markdown",
   "metadata": {
    "id": "y0buvqlEsG_F"
   },
   "source": [
    "#### Example"
   ]
  },
  {
   "cell_type": "code",
   "execution_count": 11,
   "metadata": {
    "id": "vTRoiFiUnhOz"
   },
   "outputs": [
    {
     "name": "stdout",
     "output_type": "stream",
     "text": [
      "['one', 'three', 'four', 'two']\n"
     ]
    }
   ],
   "source": [
    "lst = ['one', 'two', 'three', 'four', 'two']\n",
    "\n",
    "lst.remove('two') #it will remove first occurence of 'two' in a given list\n",
    "\n",
    "print(lst)"
   ]
  },
  {
   "cell_type": "markdown",
   "metadata": {
    "id": "UAnx4-3f_8BJ"
   },
   "source": [
    "#### Let's practice!"
   ]
  },
  {
   "cell_type": "markdown",
   "metadata": {
    "id": "-z8Nv97GAHoS"
   },
   "source": [
    "1) Use the remove method to remove \"banana\" from the fruits list."
   ]
  },
  {
   "cell_type": "code",
   "execution_count": 12,
   "metadata": {
    "id": "9YavHxm7ABaP"
   },
   "outputs": [
    {
     "name": "stdout",
     "output_type": "stream",
     "text": [
      "['apple', 'cherry']\n"
     ]
    }
   ],
   "source": [
    "fruits_list = [\"apple\", \"banana\", \"cherry\"]\n",
    "fruits_list.remove('banana')\n",
    "print(fruits_list)"
   ]
  },
  {
   "cell_type": "markdown",
   "metadata": {
    "id": "wn9vRUnoAY9p"
   },
   "source": [
    "2) Append 'Grapes' to the given list and remove 'cherry' after appending."
   ]
  },
  {
   "cell_type": "code",
   "execution_count": 13,
   "metadata": {
    "id": "RjesSN3fAlNb"
   },
   "outputs": [
    {
     "name": "stdout",
     "output_type": "stream",
     "text": [
      "['apple', 'banana']\n"
     ]
    }
   ],
   "source": [
    "fruits_list = [\"apple\", \"banana\", \"cherry\"]\n",
    "fruits_list.remove('cherry')\n",
    "print(fruits_list)"
   ]
  },
  {
   "cell_type": "markdown",
   "metadata": {
    "id": "ptEo99WXMm2k"
   },
   "source": [
    "## Accessing an element in a list\n"
   ]
  },
  {
   "cell_type": "markdown",
   "metadata": {
    "id": "N_qbEDKu9x0u"
   },
   "source": [
    "### Indexing\n",
    "Let us start with two very simple yet very powerful methods to access and manipulate the elements of the list, indexing and slicing.\n",
    "\n",
    "**Indexing** means referring to an element of an iterable by its position within the iterable. **Slicing** means getting a subset of elements from an iterable based on their indices.\n",
    "\n",
    "Again, the concept is very simple! Let's look at examples to understand it better.\n",
    "\n",
    "```\n",
    "food_list = ['Burger', 'Fries', 'Pizza', 'Coke']\n",
    "\n",
    "index           0         1         2       3 \n",
    "```\n",
    "\n",
    "**Index in python starts with 0**\n",
    "\n",
    "The syntax for this is:\n",
    "```\n",
    "list_name[index]\n",
    "```\n",
    "So, let's say you want to get the element named **Pizza** from the list mentioned above, what you would do is:\n",
    "\n",
    "Look at what index the desired element is(in our case pizza is at index **2**)\n",
    "\n",
    "Now let us follow the syntax and run the code to get the desired element:\n"
   ]
  },
  {
   "cell_type": "markdown",
   "metadata": {
    "id": "ZqkpHyH0GUwj"
   },
   "source": [
    "#### Example "
   ]
  },
  {
   "cell_type": "code",
   "execution_count": 14,
   "metadata": {
    "id": "wNoKUuGfPs3H"
   },
   "outputs": [
    {
     "name": "stdout",
     "output_type": "stream",
     "text": [
      "Pizza\n"
     ]
    }
   ],
   "source": [
    "food_list = ['Burger', 'Fries', 'Pizza', 'Coke'] # Define the list\n",
    "\n",
    "print(food_list[2])"
   ]
  },
  {
   "cell_type": "markdown",
   "metadata": {
    "id": "6GVaIX8FQSs0"
   },
   "source": [
    "Let's go over the same thing again with same list for better understanding. This time, we need to fetch the element named **Burger** from above list. \n",
    "Again, let us follow the syntax, first let us get the index at which **Burger** is placed. We can see it is on index **0**\n",
    "\n",
    "**NOTE** that we already have defined the list once, so no need to define it again.\n",
    "\n",
    "Now let us execute it:"
   ]
  },
  {
   "cell_type": "code",
   "execution_count": 15,
   "metadata": {
    "id": "_J5z4TeyQ2hc"
   },
   "outputs": [
    {
     "name": "stdout",
     "output_type": "stream",
     "text": [
      "Burger\n"
     ]
    }
   ],
   "source": [
    "print(food_list[0])"
   ]
  },
  {
   "cell_type": "markdown",
   "metadata": {
    "id": "s77P4qjdSej3"
   },
   "source": [
    "#### Let's practice!\n",
    "\n",
    "1) Write down corresponding index numbers of each element present in the list.\n",
    "\n",
    "\n",
    "\n"
   ]
  },
  {
   "cell_type": "code",
   "execution_count": 16,
   "metadata": {
    "id": "YSUgZ-YUS4yH"
   },
   "outputs": [],
   "source": [
    "car_list = ['BMW','Audi','Mercedes','Toyota','Ferrari']\n",
    "BMW = car_list[0]\n",
    "Audi = car_list[1]\n",
    "Mercedes = car_list[2]\n",
    "Toyota = car_list[3]\n",
    "Ferrari = car_list[4]"
   ]
  },
  {
   "cell_type": "markdown",
   "metadata": {
    "id": "-MsdqN_KK15h"
   },
   "source": [
    "2) Write a code to get the element named **Audi**"
   ]
  },
  {
   "cell_type": "code",
   "execution_count": 17,
   "metadata": {
    "id": "n1-PFuPWK42O"
   },
   "outputs": [
    {
     "name": "stdout",
     "output_type": "stream",
     "text": [
      "Audi\n"
     ]
    }
   ],
   "source": [
    "car_list = ['BMW','Audi','Mercedes','Toyota','Ferrari']\n",
    "Audi = car_list[1]\n",
    "print(Audi)"
   ]
  },
  {
   "cell_type": "markdown",
   "metadata": {
    "id": "8cLspayw_7Ga"
   },
   "source": [
    "## Updating elements in list"
   ]
  },
  {
   "cell_type": "markdown",
   "metadata": {
    "id": "5dKn0EQa_owy"
   },
   "source": [
    "\n",
    "So, if you have a list and for some reason, you have to change an element in such a manner that all other elements remain as they previously were, what would you do?\n",
    "A general though that might pop up in your head is to delete it and append the new element by the operations that we performed above, but what if we want to change the element which isn't at a specific index in a list? Because append would only change the last element!\n",
    "\n",
    "So let's look into the methods by which this thing is possible. We will use indexing concepts, so just brush them up, again! \n",
    "\n",
    "### By using concepts of indexing\n",
    "\n",
    "Let us again come to your favorite food items list, it is given by: \n",
    "```\n",
    "food_list = ['Burger', 'Fries', 'Pizza', 'Coke']\n",
    "\n",
    "index           0         1         2      3\n",
    "```\n",
    "Now let's say, you want to change **Fries** to **Wedges**, so that final list looks like this: \n",
    "```\n",
    "food_list = ['Burger', 'Wedges', 'Pizza', 'Coke']\n",
    "```\n",
    "So out syntax is:\n",
    "```\n",
    "list_name[index] = 'new element'\n",
    "```\n",
    "In the syntax the index is the index of the element, so we needed to change Fries, which is at index position 2. \n",
    "The new element is the change we desire to make, we wanted to change **Fries** to **Wedges** so we add Wedges, and as mention above, all list elements are enclodes by **' '**\n",
    "\n",
    "Let's execute the code and look how easy it actually is!"
   ]
  },
  {
   "cell_type": "markdown",
   "metadata": {
    "id": "anydYR4IIkyI"
   },
   "source": [
    "#### Example"
   ]
  },
  {
   "cell_type": "code",
   "execution_count": 18,
   "metadata": {
    "id": "owxXd8XOEHvk"
   },
   "outputs": [
    {
     "name": "stdout",
     "output_type": "stream",
     "text": [
      "['Burger', 'Wedges', 'Pizza', 'Coke']\n"
     ]
    }
   ],
   "source": [
    "food_list = ['Burger', 'Fries', 'Pizza', 'Coke']  # original list \n",
    "food_list[1] = 'Wedges'                             # 'Fries' at index 1, change to? Wedges\n",
    "print(food_list)"
   ]
  },
  {
   "cell_type": "markdown",
   "metadata": {
    "id": "KOCO0QJtFMBL"
   },
   "source": [
    "#### Let's practice\n",
    "\n",
    "1) By using the list as mentioned below change 'Coke' to 'Sprite'"
   ]
  },
  {
   "cell_type": "code",
   "execution_count": 19,
   "metadata": {
    "id": "FFmUITghFZRD"
   },
   "outputs": [
    {
     "name": "stdout",
     "output_type": "stream",
     "text": [
      "['Burger', 'Fries', 'Pizza', 'Sprite']\n"
     ]
    }
   ],
   "source": [
    "food_list = ['Burger', 'Fries', 'Pizza', 'Coke'] \n",
    "food_list[3] = 'Sprite'\n",
    "print(food_list)"
   ]
  },
  {
   "cell_type": "markdown",
   "metadata": {
    "id": "8zvqsHyAnDlR"
   },
   "source": [
    "### Slicing\n",
    "\n",
    "Slicing return a sublist starting from start index to (but not including) stop index. It's very useful when you want specific set of elements from list. In slicing, you just need to provide start index and stop index, and it'll return a sublist which contains all the elements between start index and stop index (but not including stop index). \n",
    "\n",
    "This becomes useful when you want only a part of data out of the whole dataset that is available.\n",
    "\n",
    "Syntax\n",
    "```\n",
    "  sub_list = list_name[start_index : stop_index+1]\n",
    "```"
   ]
  },
  {
   "cell_type": "markdown",
   "metadata": {
    "id": "L96vnRRwag3x"
   },
   "source": [
    "So let us look into examples, say you have a list like this:\n",
    "```\n",
    "input_list = ['a', 'b', 'c', 'd', 'e', 'f', 'g', 'h', 'i']\n",
    "\n",
    "index          0    1    2     3    4    5    6    7    8   \n",
    "```\n",
    "Now, you want to make another list which has only the alphabets starting from **b** to **g**, something like this isn't possible in list indexing, right? We only get a single element when we index. So let us follow the syntax above and create a list. Out outpu list should look like this:\n",
    "```\n",
    "output_list = ['b', 'c', 'd', 'e', 'f', 'g']\n",
    "```\n",
    "\n",
    "So, look at the indexes corresponding to the elements we want, we want to start with **b** which has index 1 and end with **g** which has index 6.\n",
    "Thus, according to the syntax shown above, our **start index is 1** and **stop index is 6**, but look at the syntax we have written **stop index + 1**, which means **6 + 1 = 7**\n",
    "So it should look like:\n",
    "```\n",
    "output_list = input_list[2:7]\n",
    "```\n",
    "Let's execute it to get a better idea.\n"
   ]
  },
  {
   "cell_type": "markdown",
   "metadata": {
    "id": "c_ntADpmIND4"
   },
   "source": [
    "#### Example"
   ]
  },
  {
   "cell_type": "code",
   "execution_count": 20,
   "metadata": {
    "id": "cEqCLsu6dQ4l"
   },
   "outputs": [
    {
     "name": "stdout",
     "output_type": "stream",
     "text": [
      "['c', 'd', 'e', 'f', 'g']\n"
     ]
    }
   ],
   "source": [
    "input_list = ['a', 'b', 'c', 'd', 'e', 'f', 'g', 'h', 'i']\n",
    "output_list = input_list[2:7]\n",
    "\n",
    "print(output_list)"
   ]
  },
  {
   "cell_type": "markdown",
   "metadata": {
    "id": "KTTVaSlgdbSg"
   },
   "source": [
    "Similarly, if we want a list from **a** to **c**, our **start index is 0** and **stop index is 3**(don't forget to add 1!), hence the syntax becomes:\n",
    "```\n",
    "output_list = input_list[0:3]\n",
    "```\n"
   ]
  },
  {
   "cell_type": "markdown",
   "metadata": {
    "id": "O_m3YR_hd97n"
   },
   "source": [
    "#### Let's practice\n",
    "1) Add your code in below cell to generate list which looks like:\n",
    "```\n",
    "['e', 'f', 'g', 'h', 'i']\n",
    "```"
   ]
  },
  {
   "cell_type": "code",
   "execution_count": 21,
   "metadata": {
    "id": "XtoImWcZeMf_"
   },
   "outputs": [
    {
     "name": "stdout",
     "output_type": "stream",
     "text": [
      "['e', 'f', 'g', 'h', 'i']\n"
     ]
    }
   ],
   "source": [
    "input_list = ['a', 'b', 'c', 'd', 'e', 'f', 'g', 'h', 'i']\n",
    "output_list = input_list[4:]\n",
    "print(output_list)\n"
   ]
  }
 ],
 "metadata": {
  "colab": {
   "collapsed_sections": [],
   "name": "Student Notebook 3.ipynb",
   "provenance": [
    {
     "file_id": "1Tr76prqYssU_64MpP8ZrsG2JeE5n85rn",
     "timestamp": 1612365627808
    }
   ]
  },
  "kernelspec": {
   "display_name": "Python 3.10.7 64-bit",
   "language": "python",
   "name": "python3"
  },
  "language_info": {
   "codemirror_mode": {
    "name": "ipython",
    "version": 3
   },
   "file_extension": ".py",
   "mimetype": "text/x-python",
   "name": "python",
   "nbconvert_exporter": "python",
   "pygments_lexer": "ipython3",
   "version": "3.10.7"
  },
  "vscode": {
   "interpreter": {
    "hash": "d09ebe33cb5488305776998fc9bd4009441ccc193fca551d3078796f3e290d82"
   }
  }
 },
 "nbformat": 4,
 "nbformat_minor": 1
}
