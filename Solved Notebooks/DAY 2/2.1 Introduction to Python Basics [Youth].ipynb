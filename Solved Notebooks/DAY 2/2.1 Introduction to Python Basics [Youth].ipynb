{
 "cells": [
  {
   "cell_type": "markdown",
   "metadata": {
    "id": "Vis6YIMzrGMR"
   },
   "source": [
    "# Welcome to Introduction to Python Basics\n",
    "\n",
    "##### Today we will see:\n",
    "##### 1) Input & Output\n",
    "##### 2) Variables\n",
    "##### 3) Data types\n",
    "##### 4) Strings\n",
    "##### 5) Comments\n",
    "##### 6) Arithemetic Operators "
   ]
  },
  {
   "cell_type": "markdown",
   "metadata": {
    "id": "g-QeO791tu4U"
   },
   "source": [
    "## Print and Inputs"
   ]
  },
  {
   "cell_type": "markdown",
   "metadata": {
    "id": "9wpE7_K1rGM_"
   },
   "source": [
    "Print function is used to display text or data on the screen\n"
   ]
  },
  {
   "cell_type": "markdown",
   "metadata": {
    "id": "SMVyWi7urGNB"
   },
   "source": [
    "Syntax:-\n",
    "\n",
    " ```\n",
    " print(things_to_be_printed)\n",
    " ```"
   ]
  },
  {
   "cell_type": "markdown",
   "metadata": {
    "id": "kDBY8pSRqJ_P"
   },
   "source": [
    "Example:-"
   ]
  },
  {
   "cell_type": "code",
   "execution_count": 1,
   "metadata": {
    "id": "1M6fInPTrGND"
   },
   "outputs": [
    {
     "name": "stdout",
     "output_type": "stream",
     "text": [
      "Hi I am AI\n"
     ]
    }
   ],
   "source": [
    "print(\"Hi I am AI\")"
   ]
  },
  {
   "cell_type": "markdown",
   "metadata": {
    "id": "geHuDuKTqOaj"
   },
   "source": [
    "We can also print numeric values and operations"
   ]
  },
  {
   "cell_type": "code",
   "execution_count": 2,
   "metadata": {
    "id": "x6jVLVHKrGNO"
   },
   "outputs": [
    {
     "name": "stdout",
     "output_type": "stream",
     "text": [
      "2\n",
      "5\n"
     ]
    }
   ],
   "source": [
    "print(2)\n",
    "print(2+3)"
   ]
  },
  {
   "cell_type": "markdown",
   "metadata": {
    "id": "y3VWMcZ7u2kZ"
   },
   "source": [
    "### Lets Practice!"
   ]
  },
  {
   "cell_type": "markdown",
   "metadata": {
    "id": "eBjKWRFau-0A"
   },
   "source": [
    "1. Print your name"
   ]
  },
  {
   "cell_type": "code",
   "execution_count": 3,
   "metadata": {
    "id": "HBiGGVbIvHD4"
   },
   "outputs": [
    {
     "name": "stdout",
     "output_type": "stream",
     "text": [
      "Prameya\n"
     ]
    }
   ],
   "source": [
    "print(\"Prameya\")"
   ]
  },
  {
   "cell_type": "markdown",
   "metadata": {
    "id": "889u1q8BvTUK"
   },
   "source": [
    "2. Print your favorite number"
   ]
  },
  {
   "cell_type": "code",
   "execution_count": 4,
   "metadata": {
    "id": "fRW4uRcpvWoW"
   },
   "outputs": [
    {
     "name": "stdout",
     "output_type": "stream",
     "text": [
      "25\n"
     ]
    }
   ],
   "source": [
    "print(25)"
   ]
  },
  {
   "cell_type": "markdown",
   "metadata": {
    "id": "vXIIkJTGvoP2"
   },
   "source": [
    "## Input"
   ]
  },
  {
   "cell_type": "markdown",
   "metadata": {
    "id": "M_EhYv46rGNY"
   },
   "source": [
    "Thats how values are printed, now lets see how the input works"
   ]
  },
  {
   "cell_type": "markdown",
   "metadata": {
    "id": "lbOjtlRCqft8"
   },
   "source": [
    "Syntax:-\n",
    "\n",
    "```\n",
    "var = input()\n",
    "```"
   ]
  },
  {
   "cell_type": "markdown",
   "metadata": {
    "id": "abU9AbC1q0Id"
   },
   "source": [
    "Example:-"
   ]
  },
  {
   "cell_type": "markdown",
   "metadata": {
    "id": "9OnhMw2mrgZB"
   },
   "source": [
    "You can display a message before asking for input using the print function for clarity"
   ]
  },
  {
   "cell_type": "code",
   "execution_count": 5,
   "metadata": {
    "id": "mkcFnI6PrGNa"
   },
   "outputs": [
    {
     "name": "stdout",
     "output_type": "stream",
     "text": [
      "Please enter your Age\n"
     ]
    }
   ],
   "source": [
    "print(\"Please enter your Age\")\n",
    "x = input()"
   ]
  },
  {
   "cell_type": "markdown",
   "metadata": {
    "id": "0wqspyMGrncj"
   },
   "source": [
    "You can also directly print the message in input itself"
   ]
  },
  {
   "cell_type": "code",
   "execution_count": 6,
   "metadata": {
    "id": "09lZBxwGrGNk"
   },
   "outputs": [],
   "source": [
    "y = input(\"Please enter your favorite game \")"
   ]
  },
  {
   "cell_type": "markdown",
   "metadata": {
    "id": "9is7s6zcrGNs"
   },
   "source": [
    "Now lets format the input properly to print it."
   ]
  },
  {
   "cell_type": "code",
   "execution_count": 7,
   "metadata": {
    "id": "OV_kGpTwrGNu"
   },
   "outputs": [
    {
     "name": "stdout",
     "output_type": "stream",
     "text": [
      "My favorite game is:  Valorant\n"
     ]
    }
   ],
   "source": [
    "print(\"My favorite game is: \", y)"
   ]
  },
  {
   "cell_type": "markdown",
   "metadata": {
    "id": "qHVUaLEPv9GW"
   },
   "source": [
    "### Lets Practice!"
   ]
  },
  {
   "cell_type": "markdown",
   "metadata": {
    "id": "Vtmo0NpZv-0f"
   },
   "source": [
    "1. Enter your favorite dish using input function"
   ]
  },
  {
   "cell_type": "code",
   "execution_count": 8,
   "metadata": {
    "id": "_vfF_so_wGmz"
   },
   "outputs": [
    {
     "name": "stdout",
     "output_type": "stream",
     "text": [
      "Enter your favorite dish\n",
      "Butter Chicken\n"
     ]
    }
   ],
   "source": [
    "print(\"Enter your favorite dish\")\n",
    "y = input()\n",
    "print(y)"
   ]
  },
  {
   "cell_type": "markdown",
   "metadata": {
    "id": "QHuictxsF0JN"
   },
   "source": [
    "2. Enter your favorite superhero using input function and print it"
   ]
  },
  {
   "cell_type": "code",
   "execution_count": 9,
   "metadata": {
    "id": "VzIwUaqVF0JN"
   },
   "outputs": [
    {
     "name": "stdout",
     "output_type": "stream",
     "text": [
      "Enter your favorite superhero\n",
      "Thanos\n"
     ]
    }
   ],
   "source": [
    "print(\"Enter your favorite superhero\")\n",
    "y = input()\n",
    "print(y)"
   ]
  },
  {
   "cell_type": "markdown",
   "metadata": {
    "id": "kqkBOawLrbJg"
   },
   "source": [
    "\n",
    "## Variable"
   ]
  },
  {
   "cell_type": "markdown",
   "metadata": {
    "id": "jQitvHu9rGMY"
   },
   "source": [
    "A Variable is a \"container\" to hold values in the code.\n"
   ]
  },
  {
   "cell_type": "markdown",
   "metadata": {
    "id": "JnXruSj2rGMb"
   },
   "source": [
    "The syntax to define a variable in python is:\n",
    "``` \n",
    "variable = value \n",
    "```"
   ]
  },
  {
   "cell_type": "markdown",
   "metadata": {
    "id": "1iuAx514r7D8"
   },
   "source": [
    "Example:-"
   ]
  },
  {
   "cell_type": "code",
   "execution_count": 10,
   "metadata": {
    "id": "TGio8HlCrGMe"
   },
   "outputs": [],
   "source": [
    "var_a = 10 \n",
    "var_b = \"Hello\" "
   ]
  },
  {
   "cell_type": "markdown",
   "metadata": {
    "id": "IuLZnaDQwqmG"
   },
   "source": [
    "### Lets Practice!"
   ]
  },
  {
   "cell_type": "markdown",
   "metadata": {
    "id": "X_Oe5TlswsFw"
   },
   "source": [
    "1. Assign value of 20 to a variable"
   ]
  },
  {
   "cell_type": "code",
   "execution_count": 11,
   "metadata": {
    "id": "szDdHvicwxIi"
   },
   "outputs": [],
   "source": [
    "var_1 = 20"
   ]
  },
  {
   "cell_type": "markdown",
   "metadata": {
    "id": "OYb0ZGeUtrlm"
   },
   "source": [
    "## Data Type"
   ]
  },
  {
   "cell_type": "markdown",
   "metadata": {
    "id": "caIbSajRrGMu"
   },
   "source": [
    "The data that is held by our variables can be of different types. These types are called data types. There are a lot of data types in python, but below are the 4 data types which are used most widely in our daily usage. Example of such data types are:"
   ]
  },
  {
   "cell_type": "markdown",
   "metadata": {
    "id": "Pjr_Jbu7rGMx"
   },
   "source": [
    "1. Int (integer) \n",
    "2. String\n",
    "3. Float \n",
    "4. List\n"
   ]
  },
  {
   "cell_type": "markdown",
   "metadata": {
    "id": "QFUFdtdyrGM0"
   },
   "source": [
    "Unlike other languages, we dont need to explicitly mention the data types before declaring variables.\n",
    "Officially, variable names in Python can be any length and can consist of uppercase and lowercase letters ( A-Z , a-z ), digits ( 0-9 ), and the underscore character ( _ ). An additional restriction is that, although a variable name can contain digits, the first character of a variable name cannot be a digit."
   ]
  },
  {
   "cell_type": "markdown",
   "metadata": {
    "id": "aB6lQDxFsNx4"
   },
   "source": [
    "Syntax:- \n",
    "``` \n",
    "variable = integer value \n",
    "variable = \"string\"\n",
    "variable = float value\n",
    "variable = [list, value]\n",
    "```\n"
   ]
  },
  {
   "cell_type": "markdown",
   "metadata": {
    "id": "77lEd4jjsgIS"
   },
   "source": [
    "Examples:-"
   ]
  },
  {
   "cell_type": "code",
   "execution_count": 12,
   "metadata": {
    "id": "qkIBIidYrGM1"
   },
   "outputs": [],
   "source": [
    "#Integer\n",
    "var_A = 20\n",
    "\n",
    "#String\n",
    "var_B = \"This is a string\" \n",
    "\n",
    "#Float\n",
    "var_C = 29.202 \n",
    "\n",
    "#List\n",
    "var_D = [\"apple\", \"banana\", \"cherry\"]"
   ]
  },
  {
   "cell_type": "markdown",
   "metadata": {
    "id": "84o_2s7yxM-l"
   },
   "source": [
    "### Lets Practice!"
   ]
  },
  {
   "cell_type": "markdown",
   "metadata": {
    "id": "cgbO8qtJxOxb"
   },
   "source": [
    "1. Assign your name to a variable and print it"
   ]
  },
  {
   "cell_type": "code",
   "execution_count": 13,
   "metadata": {
    "id": "SW00wWeXxSEP"
   },
   "outputs": [
    {
     "name": "stdout",
     "output_type": "stream",
     "text": [
      "My name is Prameya\n"
     ]
    }
   ],
   "source": [
    "my_name = \"Prameya\"\n",
    "print(\"My name is\", end=\" \")\n",
    "print(my_name)"
   ]
  },
  {
   "cell_type": "markdown",
   "metadata": {
    "id": "bpzPNB1dF0JQ"
   },
   "source": [
    "2. Assign your name and surname in a list and print the list"
   ]
  },
  {
   "cell_type": "code",
   "execution_count": 14,
   "metadata": {
    "id": "U-8DlPzzF0JQ"
   },
   "outputs": [
    {
     "name": "stdout",
     "output_type": "stream",
     "text": [
      "My list of my name and surname is ['Prameya', 'Mohanty']\n"
     ]
    }
   ],
   "source": [
    "name = [\"Prameya\", \"Mohanty\"]\n",
    "print(\"My list of my name and surname is\", end=\" \")\n",
    "print(name)"
   ]
  },
  {
   "cell_type": "markdown",
   "metadata": {
    "id": "XSa4WrVmF0JQ"
   },
   "source": [
    "3. Create an integer variable that stores value of your choice and print it. \n",
    "\n",
    "   Create a float variable that stores value of your choice and print it. \n",
    "\n",
    "   Create a string variable that stores value of your choice and print it.\n",
    "\n",
    "   Create a list variable that stores value of your choice and print it"
   ]
  },
  {
   "cell_type": "code",
   "execution_count": 15,
   "metadata": {
    "id": "nGHh5TDRF0JQ"
   },
   "outputs": [],
   "source": [
    "int_var = 25\n",
    "float_var = 14.0\n",
    "string_var = \"Prameya\"\n",
    "list_var = ['Cricket', 'Football', 'Hockey']"
   ]
  },
  {
   "cell_type": "markdown",
   "metadata": {
    "id": "7hN1VMO8F0JQ"
   },
   "source": [
    "4. Create a list and put the names of 5 cars into the list and print the list"
   ]
  },
  {
   "cell_type": "code",
   "execution_count": 16,
   "metadata": {
    "id": "Ehm3HJdZF0JR"
   },
   "outputs": [
    {
     "name": "stdout",
     "output_type": "stream",
     "text": [
      "The list of cars is: ['Kia', 'Jeep', 'Honda', 'Mahindra', 'Tata Motors']\n"
     ]
    }
   ],
   "source": [
    "cars = ['Kia', 'Jeep', 'Honda', 'Mahindra', 'Tata Motors']\n",
    "print(\"The list of cars is:\", end=\" \")\n",
    "print(cars)"
   ]
  },
  {
   "cell_type": "markdown",
   "metadata": {
    "id": "zLRAlRHgtzej"
   },
   "source": [
    "## Comments"
   ]
  },
  {
   "cell_type": "markdown",
   "metadata": {
    "id": "1xZJa9smrGN4"
   },
   "source": [
    "To make the code more readable at each step, it is important to make use of comments. Comments are not part of the execution of code, they are only for the reader. Comments are useful instructions or notes that the programmer wants to convey to the user. You can provide descriptions or other important things via comments."
   ]
  },
  {
   "cell_type": "markdown",
   "metadata": {
    "id": "CXF8zB_mrGN5"
   },
   "source": [
    "To use a comment simply put '#' and anything typed after that in that line would be considered a comment."
   ]
  },
  {
   "cell_type": "code",
   "execution_count": 17,
   "metadata": {
    "id": "X1jBKnY8rGN6"
   },
   "outputs": [
    {
     "name": "stdout",
     "output_type": "stream",
     "text": [
      "2574.4642\n"
     ]
    }
   ],
   "source": [
    "var_L = 2342.2342 # Variable for adding two numbers\n",
    "var_G = 232.23 # Variable for adding two numbers\n",
    "var_p = var_L + var_G\n",
    "print(var_p)"
   ]
  },
  {
   "cell_type": "markdown",
   "metadata": {
    "id": "euEYuFBltKPv"
   },
   "source": [
    "You can also use comments in multiple lines which can be declared using \"\"\" comment \"\"\""
   ]
  },
  {
   "cell_type": "code",
   "execution_count": 18,
   "metadata": {
    "id": "KB3BbmqAtJc1"
   },
   "outputs": [
    {
     "name": "stdout",
     "output_type": "stream",
     "text": [
      "12\n"
     ]
    }
   ],
   "source": [
    "\"\"\"\n",
    "This is a multiline \n",
    "comment. It spans over multiple \n",
    "lines\n",
    "\"\"\"\n",
    "var_age = 12 \n",
    "print(var_age)"
   ]
  },
  {
   "cell_type": "markdown",
   "metadata": {
    "id": "2P-TsmRHF0JR"
   },
   "source": [
    "### Lets Practice!"
   ]
  },
  {
   "cell_type": "markdown",
   "metadata": {
    "id": "9PyNQ8C-F0JS"
   },
   "source": [
    "1. Comment the string and run the code"
   ]
  },
  {
   "cell_type": "code",
   "execution_count": 19,
   "metadata": {
    "id": "EH-uqUqHF0JS"
   },
   "outputs": [
    {
     "name": "stdout",
     "output_type": "stream",
     "text": [
      "You have commented it! Amazing!!\n"
     ]
    }
   ],
   "source": [
    "# This is a string, comment it\n",
    "\n",
    "print(\"You have commented it! Amazing!!\")"
   ]
  },
  {
   "cell_type": "markdown",
   "metadata": {
    "id": "MOVR5o5Ot3M9"
   },
   "source": [
    "## Arithmetic Operators"
   ]
  },
  {
   "cell_type": "markdown",
   "metadata": {
    "id": "Y5bsdetYrGOC"
   },
   "source": [
    "So far we have covered: Data types, Variables, Input, Output and comments. Lets move on to some real programming."
   ]
  },
  {
   "cell_type": "markdown",
   "metadata": {
    "id": "b7LpNDjit_Sl"
   },
   "source": [
    "Syntax:- \n",
    "``` \n",
    "var1 + var2 (addition)\n",
    "var1 - var2 (subtraction)\n",
    "var1 * var2 (multiplication)\n",
    "var1 % var2 (remainder)\n",
    "var1 ** var2 (var1 to the power of var2)\n",
    "```"
   ]
  },
  {
   "cell_type": "markdown",
   "metadata": {
    "id": "clOYQNTZue5T"
   },
   "source": [
    "Example:-"
   ]
  },
  {
   "cell_type": "code",
   "execution_count": 20,
   "metadata": {
    "id": "ZBjGFalOrGOG"
   },
   "outputs": [
    {
     "name": "stdout",
     "output_type": "stream",
     "text": [
      "13\n",
      "5\n",
      "36\n",
      "2.25\n",
      "1\n",
      "6561\n",
      "2\n"
     ]
    }
   ],
   "source": [
    "a = 9\n",
    "b = 4\n",
    "  \n",
    "# Addition of numbers  \n",
    "add = a + b  \n",
    "  \n",
    "# Subtraction of numbers  \n",
    "sub = a - b  \n",
    "  \n",
    "# Multiplication of number  \n",
    "mul = a * b  \n",
    "  \n",
    "# Division(float) of number  \n",
    "div1 = a / b  \n",
    "  \n",
    "# Modulo of both number  \n",
    "mod = a % b  \n",
    "  \n",
    "# Power \n",
    "p = a ** b\n",
    "\n",
    "# Floor division of numbers\n",
    "floor_div = a // b\n",
    "  \n",
    "# print results  \n",
    "print(add)  \n",
    "print(sub)  \n",
    "print(mul)  \n",
    "print(div1)   \n",
    "print(mod) \n",
    "print(p)\n",
    "print(floor_div)"
   ]
  },
  {
   "cell_type": "markdown",
   "metadata": {
    "id": "JTWvNjzFxin9"
   },
   "source": [
    "### Lets Practice!"
   ]
  },
  {
   "cell_type": "markdown",
   "metadata": {
    "id": "Sysx9KrpxqhA"
   },
   "source": [
    "1. Perform various operations on 3 numbers and print the value"
   ]
  },
  {
   "cell_type": "code",
   "execution_count": 21,
   "metadata": {
    "id": "CNiM4L8Ex0Dl"
   },
   "outputs": [
    {
     "name": "stdout",
     "output_type": "stream",
     "text": [
      "Here is the addition 9.0\n",
      "Here is the Subtraction -5.0\n",
      "Here is the Multiplicationn 24.0\n",
      "Here is the Division 0.16666666666666666\n"
     ]
    }
   ],
   "source": [
    "a = 2\n",
    "b = 3.0\n",
    "c = 4.0\n",
    "\n",
    "addition = a + b + c\n",
    "\n",
    "print(\"Here is the addition\", addition)\n",
    "\n",
    "subtraction = a - b - c\n",
    "\n",
    "print(\"Here is the Subtraction\", subtraction)\n",
    "\n",
    "multiplication = a * b * c\n",
    "\n",
    "print(\"Here is the Multiplicationn\", multiplication)\n",
    "\n",
    "Division = a / b / c\n",
    "\n",
    "print(\"Here is the Division\", Division)"
   ]
  },
  {
   "cell_type": "markdown",
   "metadata": {
    "id": "sjWZqPOeF0JT"
   },
   "source": [
    "2. Calculate the remainder when 11 is divided by 5"
   ]
  },
  {
   "cell_type": "code",
   "execution_count": 22,
   "metadata": {
    "id": "PiLHZwgBF0JT"
   },
   "outputs": [
    {
     "name": "stdout",
     "output_type": "stream",
     "text": [
      "When 11 is divided by 5 the remainder is: 1\n"
     ]
    }
   ],
   "source": [
    "a = 11\n",
    "b = 5\n",
    "\n",
    "remainder = 11 - (5 * int(11/5))\n",
    "\n",
    "print(\"When\",a,\"is divided by\",b,\"the remainder is:\",remainder)"
   ]
  }
 ],
 "metadata": {
  "colab": {
   "collapsed_sections": [],
   "name": "Notebook 1.ipynb",
   "provenance": [
    {
     "file_id": "133e8dUp9uHn7Biu3OwxUoYuWnc_OAaUU",
     "timestamp": 1612365483754
    }
   ]
  },
  "kernelspec": {
   "display_name": "Python 3.10.7 64-bit",
   "language": "python",
   "name": "python3"
  },
  "language_info": {
   "codemirror_mode": {
    "name": "ipython",
    "version": 3
   },
   "file_extension": ".py",
   "mimetype": "text/x-python",
   "name": "python",
   "nbconvert_exporter": "python",
   "pygments_lexer": "ipython3",
   "version": "3.10.7"
  },
  "vscode": {
   "interpreter": {
    "hash": "d09ebe33cb5488305776998fc9bd4009441ccc193fca551d3078796f3e290d82"
   }
  }
 },
 "nbformat": 4,
 "nbformat_minor": 1
}
