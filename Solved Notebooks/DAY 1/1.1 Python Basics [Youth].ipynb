{
 "cells": [
  {
   "cell_type": "markdown",
   "metadata": {
    "colab_type": "text",
    "id": "q_jEPW8mneH3"
   },
   "source": [
    "# Python Basics\n",
    "\n",
    "In this notebook you'll learn about:\n",
    "\n",
    "\n",
    "1.   Print function\n",
    "2.   Variables\n",
    "3.   Keywords\n",
    "4.   Data Types\n",
    "5.   Commments\n"
   ]
  },
  {
   "cell_type": "markdown",
   "metadata": {
    "colab_type": "text",
    "id": "hJQzzqQFQ6x2"
   },
   "source": [
    "## Print\n",
    "\n",
    "Display data on the screen.\n"
   ]
  },
  {
   "cell_type": "code",
   "execution_count": 1,
   "metadata": {
    "colab": {
     "base_uri": "https://localhost:8080/",
     "height": 36
    },
    "colab_type": "code",
    "executionInfo": {
     "elapsed": 2331,
     "status": "ok",
     "timestamp": 1586852366665,
     "user": {
      "displayName": "pratik parmar",
      "photoUrl": "",
      "userId": "12655974570987778885"
     },
     "user_tz": -330
    },
    "id": "to657r7IREQy",
    "outputId": "6762368b-1b1f-45a6-f5a6-b306747b99e5"
   },
   "outputs": [
    {
     "name": "stdout",
     "output_type": "stream",
     "text": [
      "Hello World!\n"
     ]
    }
   ],
   "source": [
    "print(\"Hello World!\")"
   ]
  },
  {
   "cell_type": "code",
   "execution_count": 2,
   "metadata": {
    "colab": {
     "base_uri": "https://localhost:8080/",
     "height": 36
    },
    "colab_type": "code",
    "executionInfo": {
     "elapsed": 4975,
     "status": "ok",
     "timestamp": 1586852396327,
     "user": {
      "displayName": "pratik parmar",
      "photoUrl": "",
      "userId": "12655974570987778885"
     },
     "user_tz": -330
    },
    "id": "1XH4PU7xxZNs",
    "outputId": "0c0f617a-7778-42d0-909b-16eb69f3adbb"
   },
   "outputs": [
    {
     "name": "stdout",
     "output_type": "stream",
     "text": [
      "AI4Youth\n"
     ]
    }
   ],
   "source": [
    "print(\"AI4Youth\")"
   ]
  },
  {
   "cell_type": "markdown",
   "metadata": {
    "colab_type": "text",
    "id": "yOMr7JKTqYle"
   },
   "source": [
    "## Variable\n",
    "Variable is nothing but a value stored in memory with an associated name. \n",
    "\n",
    "\n",
    "### Syntax\n",
    "\n",
    "\n",
    "```\n",
    "  variable_name = variable_value\n",
    "```"
   ]
  },
  {
   "cell_type": "code",
   "execution_count": 3,
   "metadata": {
    "colab": {},
    "colab_type": "code",
    "id": "ppLwIZaYm4U9"
   },
   "outputs": [],
   "source": [
    "marks = 100"
   ]
  },
  {
   "cell_type": "markdown",
   "metadata": {
    "colab_type": "text",
    "id": "LnqpnYU1nl2z"
   },
   "source": [
    "### Print a variable"
   ]
  },
  {
   "cell_type": "code",
   "execution_count": 4,
   "metadata": {
    "colab": {
     "base_uri": "https://localhost:8080/",
     "height": 36
    },
    "colab_type": "code",
    "executionInfo": {
     "elapsed": 854,
     "status": "ok",
     "timestamp": 1586852529877,
     "user": {
      "displayName": "pratik parmar",
      "photoUrl": "",
      "userId": "12655974570987778885"
     },
     "user_tz": -330
    },
    "id": "tYKkjNoTn1Qz",
    "outputId": "c7489930-5bbb-4b29-ff88-efa87a242e6e"
   },
   "outputs": [
    {
     "name": "stdout",
     "output_type": "stream",
     "text": [
      "100\n"
     ]
    }
   ],
   "source": [
    "print(marks)"
   ]
  },
  {
   "cell_type": "code",
   "execution_count": 5,
   "metadata": {
    "colab": {},
    "colab_type": "code",
    "id": "YIz-hsnQuI_m"
   },
   "outputs": [],
   "source": [
    "first_avenger = \"Steve Rogers\""
   ]
  },
  {
   "cell_type": "markdown",
   "metadata": {
    "colab_type": "text",
    "id": "TVyHsxUEoL9D"
   },
   "source": [
    "There are multiple way to print a variable. Such as:\n",
    "\n",
    "#### Syntax to print a variable\n",
    "`print(variable)`"
   ]
  },
  {
   "cell_type": "code",
   "execution_count": 6,
   "metadata": {
    "colab": {
     "base_uri": "https://localhost:8080/",
     "height": 36
    },
    "colab_type": "code",
    "executionInfo": {
     "elapsed": 827,
     "status": "ok",
     "timestamp": 1586852558015,
     "user": {
      "displayName": "pratik parmar",
      "photoUrl": "",
      "userId": "12655974570987778885"
     },
     "user_tz": -330
    },
    "id": "KMZnmgR9n_2c",
    "outputId": "e160b4c2-d398-4793-a3fa-9ae221bf7ebe"
   },
   "outputs": [
    {
     "name": "stdout",
     "output_type": "stream",
     "text": [
      "Steve Rogers\n"
     ]
    }
   ],
   "source": [
    "print(first_avenger)"
   ]
  },
  {
   "cell_type": "markdown",
   "metadata": {
    "colab_type": "text",
    "id": "EMXatdoEoc14"
   },
   "source": [
    "#### Syntax to print a variable along with a sentence (string).\n",
    "\n",
    "` print(\"Hello\", variable_name)`"
   ]
  },
  {
   "cell_type": "code",
   "execution_count": 7,
   "metadata": {
    "colab": {
     "base_uri": "https://localhost:8080/",
     "height": 36
    },
    "colab_type": "code",
    "executionInfo": {
     "elapsed": 902,
     "status": "ok",
     "timestamp": 1586852600875,
     "user": {
      "displayName": "pratik parmar",
      "photoUrl": "",
      "userId": "12655974570987778885"
     },
     "user_tz": -330
    },
    "id": "E46PVBeMoDaX",
    "outputId": "88de04f6-effb-42dd-aefc-1f0d8bc1807d"
   },
   "outputs": [
    {
     "name": "stdout",
     "output_type": "stream",
     "text": [
      "First Avenger is: Steve Rogers\n"
     ]
    }
   ],
   "source": [
    "print(\"First Avenger is:\", first_avenger)"
   ]
  },
  {
   "cell_type": "markdown",
   "metadata": {
    "colab_type": "text",
    "id": "BvdIDU38pS6t"
   },
   "source": [
    "## Keywords\n",
    "Keywords are reserved words which cannot be used as variable name. Such as:\n",
    "\n",
    "\n",
    "*   print\n",
    "*   and\n",
    "*   as\n",
    "*   in\n",
    "*   global\n",
    "\n",
    "You don't have to memorize a list of keywords. To print list of keywords, run the next code snippet.\n",
    "\n",
    "PS: You don't have to understand next code snippet as of now, that's only for your knowledge.\n",
    "\n"
   ]
  },
  {
   "cell_type": "code",
   "execution_count": 8,
   "metadata": {
    "colab": {
     "base_uri": "https://localhost:8080/",
     "height": 56
    },
    "colab_type": "code",
    "executionInfo": {
     "elapsed": 4271,
     "status": "ok",
     "timestamp": 1586852754509,
     "user": {
      "displayName": "pratik parmar",
      "photoUrl": "",
      "userId": "12655974570987778885"
     },
     "user_tz": -330
    },
    "id": "xVv0jXNXpE1w",
    "outputId": "23ff5584-b3c3-46af-9c6d-3138a9655834"
   },
   "outputs": [
    {
     "name": "stdout",
     "output_type": "stream",
     "text": [
      "['False', 'None', 'True', 'and', 'as', 'assert', 'async', 'await', 'break', 'class', 'continue', 'def', 'del', 'elif', 'else', 'except', 'finally', 'for', 'from', 'global', 'if', 'import', 'in', 'is', 'lambda', 'nonlocal', 'not', 'or', 'pass', 'raise', 'return', 'try', 'while', 'with', 'yield']\n"
     ]
    }
   ],
   "source": [
    "import keyword\n",
    "print(keyword.kwlist)\n"
   ]
  },
  {
   "cell_type": "markdown",
   "metadata": {
    "colab_type": "text",
    "id": "jv36bGKXGBH9"
   },
   "source": [
    "## Data Types\n",
    "\n",
    "\n",
    "\n",
    "*   Integer\n",
    "*   Float\n",
    "*   String\n",
    "*   Boolean\n",
    "\n"
   ]
  },
  {
   "cell_type": "markdown",
   "metadata": {
    "colab_type": "text",
    "id": "8mCPQJWtGQ4G"
   },
   "source": [
    "### Integer\n",
    "Positive or negative whole numbers with no decimal point.\n"
   ]
  },
  {
   "cell_type": "code",
   "execution_count": 9,
   "metadata": {
    "colab": {
     "base_uri": "https://localhost:8080/",
     "height": 36
    },
    "colab_type": "code",
    "executionInfo": {
     "elapsed": 1268,
     "status": "ok",
     "timestamp": 1586707070662,
     "user": {
      "displayName": "pratik parmar",
      "photoUrl": "",
      "userId": "12655974570987778885"
     },
     "user_tz": -330
    },
    "id": "AHEuy2_OuDyF",
    "outputId": "da338eb7-5558-400f-84e7-6522b9a4bf51"
   },
   "outputs": [
    {
     "name": "stdout",
     "output_type": "stream",
     "text": [
      "13\n"
     ]
    }
   ],
   "source": [
    "count = 13\n",
    "print(count)"
   ]
  },
  {
   "cell_type": "markdown",
   "metadata": {
    "colab_type": "text",
    "id": "RtkvP52WHJUY"
   },
   "source": [
    "### Float\n",
    "\n",
    "Real numbers which are written with a decimal point.\n"
   ]
  },
  {
   "cell_type": "code",
   "execution_count": 10,
   "metadata": {
    "colab": {
     "base_uri": "https://localhost:8080/",
     "height": 36
    },
    "colab_type": "code",
    "executionInfo": {
     "elapsed": 1100,
     "status": "ok",
     "timestamp": 1586707104055,
     "user": {
      "displayName": "pratik parmar",
      "photoUrl": "",
      "userId": "12655974570987778885"
     },
     "user_tz": -330
    },
    "id": "fSPjDyfYHEuY",
    "outputId": "3bcc59c9-d784-4c38-aa67-501303df7379"
   },
   "outputs": [
    {
     "name": "stdout",
     "output_type": "stream",
     "text": [
      "2.2\n"
     ]
    }
   ],
   "source": [
    "float = 2.2\n",
    "print(float)"
   ]
  },
  {
   "cell_type": "markdown",
   "metadata": {
    "colab_type": "text",
    "id": "WWOKR9K7HR9c"
   },
   "source": [
    "### String\n",
    "\n",
    "Sequence of characters. It supports alphabets as well as special characters like $, #, * etc. Don’t forget to add single or double quotes, quotes are not part of string. It only tell computer where string begins and ends."
   ]
  },
  {
   "cell_type": "code",
   "execution_count": 11,
   "metadata": {
    "colab": {
     "base_uri": "https://localhost:8080/",
     "height": 36
    },
    "colab_type": "code",
    "executionInfo": {
     "elapsed": 1218,
     "status": "ok",
     "timestamp": 1586707166145,
     "user": {
      "displayName": "pratik parmar",
      "photoUrl": "",
      "userId": "12655974570987778885"
     },
     "user_tz": -330
    },
    "id": "DPZKC5K3HPrX",
    "outputId": "7fd45f56-1b82-43bc-80f0-e977a04cdecc"
   },
   "outputs": [
    {
     "name": "stdout",
     "output_type": "stream",
     "text": [
      "Prameya\n"
     ]
    }
   ],
   "source": [
    "name = \"Prameya\"\n",
    "print(name)"
   ]
  },
  {
   "cell_type": "markdown",
   "metadata": {
    "colab_type": "text",
    "id": "LryLTjqXHx_L"
   },
   "source": [
    "### Boolean\n",
    "\n",
    "A boolean can have any of `True` or `False` value only. "
   ]
  },
  {
   "cell_type": "code",
   "execution_count": 12,
   "metadata": {
    "colab": {
     "base_uri": "https://localhost:8080/",
     "height": 36
    },
    "colab_type": "code",
    "executionInfo": {
     "elapsed": 923,
     "status": "ok",
     "timestamp": 1586707578726,
     "user": {
      "displayName": "pratik parmar",
      "photoUrl": "",
      "userId": "12655974570987778885"
     },
     "user_tz": -330
    },
    "id": "0bT7qMBxHqsc",
    "outputId": "18b097c1-a28c-4486-88b7-14fb7cca127c"
   },
   "outputs": [
    {
     "name": "stdout",
     "output_type": "stream",
     "text": [
      "True\n"
     ]
    }
   ],
   "source": [
    "are_you_hunry = True\n",
    "print(are_you_hunry)"
   ]
  },
  {
   "cell_type": "markdown",
   "metadata": {
    "colab_type": "text",
    "id": "2xRwud75JH-_"
   },
   "source": [
    "## Comments\n",
    "\n",
    "Comments are the part of your code, which you don’t want to execute.\n",
    "\n",
    "\n",
    "*   Single Line Comment\n",
    "*   Multi Line Comment"
   ]
  },
  {
   "cell_type": "markdown",
   "metadata": {
    "colab_type": "text",
    "id": "7bEbg1afJRT9"
   },
   "source": [
    "### Single Line Comment"
   ]
  },
  {
   "cell_type": "code",
   "execution_count": 13,
   "metadata": {
    "colab": {
     "base_uri": "https://localhost:8080/",
     "height": 36
    },
    "colab_type": "code",
    "executionInfo": {
     "elapsed": 896,
     "status": "ok",
     "timestamp": 1586707680946,
     "user": {
      "displayName": "pratik parmar",
      "photoUrl": "",
      "userId": "12655974570987778885"
     },
     "user_tz": -330
    },
    "id": "-L8DxWhsH8DE",
    "outputId": "f619b1d9-943c-4507-b263-91d0a76f64d6"
   },
   "outputs": [
    {
     "name": "stdout",
     "output_type": "stream",
     "text": [
      "How you doing?\n"
     ]
    }
   ],
   "source": [
    "print(\"How you doing?\") # this code prints \"How you doing?\""
   ]
  },
  {
   "cell_type": "markdown",
   "metadata": {
    "colab_type": "text",
    "id": "0atlW1v4Jegw"
   },
   "source": [
    "### Multi Line Comment"
   ]
  },
  {
   "cell_type": "code",
   "execution_count": 14,
   "metadata": {
    "colab": {
     "base_uri": "https://localhost:8080/",
     "height": 36
    },
    "colab_type": "code",
    "executionInfo": {
     "elapsed": 827,
     "status": "ok",
     "timestamp": 1586707789711,
     "user": {
      "displayName": "pratik parmar",
      "photoUrl": "",
      "userId": "12655974570987778885"
     },
     "user_tz": -330
    },
    "id": "SGUKO1JuJcqt",
    "outputId": "dcd87c0b-d75c-49e9-cbec-bbb8cb56464c"
   },
   "outputs": [
    {
     "name": "stdout",
     "output_type": "stream",
     "text": [
      "Hello World!\n"
     ]
    }
   ],
   "source": [
    "\"\"\"\n",
    "This is is how you can\n",
    "add multiline comments.\n",
    "Code after the the quotes will be executed normally.  \n",
    "\"\"\"\n",
    "\n",
    "print(\"Hello World!\")"
   ]
  }
 ],
 "metadata": {
  "colab": {
   "authorship_tag": "ABX9TyPIp+rxV4DUajUE10aDoA21",
   "collapsed_sections": [],
   "name": "3.1 Python Basics [Coach].ipynb",
   "provenance": [
    {
     "file_id": "1U_jrkCZAboG0C5Klt8bvACbzd2XL0Y95",
     "timestamp": 1586750537218
    }
   ],
   "toc_visible": true
  },
  "kernelspec": {
   "display_name": "Python 3.10.7 64-bit",
   "language": "python",
   "name": "python3"
  },
  "language_info": {
   "codemirror_mode": {
    "name": "ipython",
    "version": 3
   },
   "file_extension": ".py",
   "mimetype": "text/x-python",
   "name": "python",
   "nbconvert_exporter": "python",
   "pygments_lexer": "ipython3",
   "version": "3.10.7"
  },
  "vscode": {
   "interpreter": {
    "hash": "d09ebe33cb5488305776998fc9bd4009441ccc193fca551d3078796f3e290d82"
   }
  }
 },
 "nbformat": 4,
 "nbformat_minor": 1
}
